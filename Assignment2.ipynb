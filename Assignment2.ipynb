{
 "cells": [
  {
   "cell_type": "code",
   "execution_count": 5,
   "id": "685a3b6d-fbf5-4847-8e5d-35bec1233973",
   "metadata": {},
   "outputs": [
    {
     "name": "stdout",
     "output_type": "stream",
     "text": [
      "Please enter FirstName:\n"
     ]
    },
    {
     "name": "stdin",
     "output_type": "stream",
     "text": [
      " hemanth\n"
     ]
    },
    {
     "name": "stdout",
     "output_type": "stream",
     "text": [
      "Please enter LastName:\n"
     ]
    },
    {
     "name": "stdin",
     "output_type": "stream",
     "text": [
      " lakkimsetti\n"
     ]
    },
    {
     "name": "stdout",
     "output_type": "stream",
     "text": [
      "hemanth lakkimsetti\n",
      "hmnhlkisti\n"
     ]
    }
   ],
   "source": [
    "#QUESTION 1\n",
    "#Write a program that takes two strings from the user: first_name, last_name. Pass these variables to \n",
    "#fullname function that should return the (full name)\n",
    "\n",
    "print(\"Please enter FirstName:\")\n",
    "First_name = input();\n",
    "print(\"Please enter LastName:\")\n",
    "last_name = input();\n",
    "\n",
    "class Name:\n",
    "\n",
    "    def Fullname(self, FirstName, LastName):\n",
    "        Full_name = FirstName + \" \" + LastName\n",
    "        return Full_name\n",
    "\n",
    "    def string_alternative(self, Full_name):\n",
    "        output = ''\n",
    "        for i in range(len(Full_name)):\n",
    "            if (i % 2 == 0):\n",
    "                output = output + Full_name[i]\n",
    "        print(output)\n",
    "\n",
    "\n",
    "def main():\n",
    "    Objname = Name()\n",
    "    print(Objname.Fullname(First_name, last_name))\n",
    "    Objname.string_alternative(Objname.Fullname(First_name, last_name))\n",
    "\n",
    "\n",
    "if __name__ == \"__main__\":\n",
    "    main()"
   ]
  },
  {
   "cell_type": "code",
   "execution_count": 6,
   "id": "642c132e-e828-4e9e-baba-3ba7c8c8cee4",
   "metadata": {},
   "outputs": [],
   "source": [
    "#QUESTION 2\n",
    "\n",
    "#find out the word count in a file and print it in the output file\n",
    "\n",
    "from collections import Counter\n",
    "\n",
    "with open('C://Users//kesha//.ipynb_checkpoints//Neural Networks//input.txt') as f:\n",
    "    lines = f.read()\n",
    "    list_words = (' '.join(lines.splitlines())).split()\n",
    "    ar = str(dict(Counter(list_words)))\n",
    "    with open('C://Users//kesha//.ipynb_checkpoints//Neural Networks//output.txt', 'w') as s:\n",
    "        s.write(ar)"
   ]
  },
  {
   "cell_type": "code",
   "execution_count": 4,
   "id": "ffe082da-4e39-46de-b1c6-d9f5c45061ec",
   "metadata": {},
   "outputs": [
    {
     "name": "stdout",
     "output_type": "stream",
     "text": [
      "[381.0, 393.7, 368.3, 375.92]\n"
     ]
    }
   ],
   "source": [
    "#QUESTION 3\n",
    "\n",
    "#read the heights in inches and convert them into centimeters and store them in a seperate list\n",
    "def inchestocentimeters():\n",
    "    list1 = [150, 155, 145, 148]\n",
    "    list2 = []\n",
    "    for i in list1:\n",
    "        list2.append(float(i * 2.54))\n",
    "    print(list2)\n",
    "\n",
    "\n",
    "inchestocentimeters()"
   ]
  }
 ],
 "metadata": {
  "kernelspec": {
   "display_name": "Python 3 (ipykernel)",
   "language": "python",
   "name": "python3"
  },
  "language_info": {
   "codemirror_mode": {
    "name": "ipython",
    "version": 3
   },
   "file_extension": ".py",
   "mimetype": "text/x-python",
   "name": "python",
   "nbconvert_exporter": "python",
   "pygments_lexer": "ipython3",
   "version": "3.12.1"
  }
 },
 "nbformat": 4,
 "nbformat_minor": 5
}
